{
 "cells": [
  {
   "cell_type": "code",
   "execution_count": 1,
   "metadata": {},
   "outputs": [],
   "source": [
    "# 必要なライブラリのインクルード\n",
    "import os\n",
    "from math import *\n",
    "import re\n",
    "import cv2\n",
    "from PIL import Image as pilim\n",
    "from PIL import ImageFilter\n",
    "import matplotlib.pyplot as plt\n",
    "import numpy as np\n",
    "# opencv画像入力用\n",
    "from IPython.display import display, Image\n",
    "%matplotlib inline\n",
    "def display_cv_image(image, format='.JPG'):\n",
    "    decoded_bytes = cv2.imencode(format, image)[1].tobytes()\n",
    "    display(Image(data=decoded_bytes))\n",
    "def resizeAndShow(img,num):\n",
    "    size = (4*num,4*num)\n",
    "    show_img = cv2.resize(img, size)\n",
    "    display_cv_image(show_img)"
   ]
  },
  {
   "cell_type": "code",
   "execution_count": null,
   "metadata": {},
   "outputs": [],
   "source": []
  }
 ],
 "metadata": {
  "kernelspec": {
   "display_name": "Python 3",
   "language": "python",
   "name": "python3"
  },
  "language_info": {
   "codemirror_mode": {
    "name": "ipython",
    "version": 3
   },
   "file_extension": ".py",
   "mimetype": "text/x-python",
   "name": "python",
   "nbconvert_exporter": "python",
   "pygments_lexer": "ipython3",
   "version": "3.6.1"
  }
 },
 "nbformat": 4,
 "nbformat_minor": 2
}
